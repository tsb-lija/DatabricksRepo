{
 "cells": [
  {
   "cell_type": "markdown",
   "metadata": {
    "application/vnd.databricks.v1+cell": {
     "cellMetadata": {},
     "inputWidgets": {},
     "nuid": "bc013f53-e324-4008-8b35-19c3e272f1b2",
     "showTitle": false,
     "title": ""
    }
   },
   "source": [
    "\n",
    "<div style=\"text-align: center; line-height: 0; padding-top: 9px;\">\n",
    "  <img src=\"https://databricks.com/wp-content/uploads/2018/03/db-academy-rgb-1200px.png\" alt=\"Databricks Learning\" style=\"width: 600px\">\n",
    "</div>"
   ]
  },
  {
   "cell_type": "markdown",
   "metadata": {
    "application/vnd.databricks.v1+cell": {
     "cellMetadata": {},
     "inputWidgets": {},
     "nuid": "1ddb006c-7d47-4b51-8167-ae9f57c9f4c6",
     "showTitle": false,
     "title": "--i18n-433999da-5c3d-4858-b6c6-df9d4b5b5750"
    }
   },
   "source": [
    "\n",
    "# Stream Aggregations Lab\n",
    "\n",
    "### Activity by Traffic\n",
    "\n",
    "Process streaming data to display total active users by traffic source.\n",
    "\n",
    "##### Objectives\n",
    "1. Read data stream\n",
    "2. Get active users by traffic source\n",
    "3. Execute query with display() and plot results\n",
    "4. Execute the same streaming query with DataStreamWriter\n",
    "5. View results being updated in the query table\n",
    "6. List and stop all active streams\n",
    "\n",
    "##### Classes\n",
    "- <a href=\"https://spark.apache.org/docs/latest/api/python/reference/pyspark.ss/api/pyspark.sql.streaming.DataStreamReader.html\" target=\"_blank\">DataStreamReader</a>\n",
    "- <a href=\"https://spark.apache.org/docs/latest/api/python/reference/pyspark.ss/api/pyspark.sql.streaming.DataStreamWriter.html\" target=\"_blank\">DataStreamWriter</a>\n",
    "- <a href=\"https://spark.apache.org/docs/latest/api/python/reference/pyspark.ss/api/pyspark.sql.streaming.StreamingQuery.html\" target=\"_blank\">StreamingQuery</a>"
   ]
  },
  {
   "cell_type": "markdown",
   "metadata": {
    "application/vnd.databricks.v1+cell": {
     "cellMetadata": {},
     "inputWidgets": {},
     "nuid": "c16f69e7-1141-4d65-a419-bce3e792d49e",
     "showTitle": false,
     "title": "--i18n-782b481b-91f4-4599-b75c-13362cbb5cbe"
    }
   },
   "source": [
    "\n",
    "### Setup\n",
    "Run the cells below to generate data and create the **`schema`** string needed for this lab."
   ]
  },
  {
   "cell_type": "code",
   "execution_count": 0,
   "metadata": {
    "application/vnd.databricks.v1+cell": {
     "cellMetadata": {
      "byteLimit": 2048000,
      "rowLimit": 10000
     },
     "inputWidgets": {},
     "nuid": "6d6a6cd6-077d-465e-a902-9c0b46e7ed36",
     "showTitle": false,
     "title": ""
    }
   },
   "outputs": [],
   "source": [
    "%run ./Includes/Classroom-Setup-01.3L"
   ]
  },
  {
   "cell_type": "markdown",
   "metadata": {
    "application/vnd.databricks.v1+cell": {
     "cellMetadata": {},
     "inputWidgets": {},
     "nuid": "2e07052f-dba2-47fb-8117-e57ef8e9906f",
     "showTitle": false,
     "title": "--i18n-0b92987e-b792-40b7-a651-9ce83bf38367"
    }
   },
   "source": [
    "\n",
    "### 1. Read data stream\n",
    "- Set to process 1 file per trigger\n",
    "- Read from Delta with filepath stored in **`DA.paths.events`**\n",
    "\n",
    "Assign the resulting Query to **`df`**."
   ]
  },
  {
   "cell_type": "code",
   "execution_count": 0,
   "metadata": {
    "application/vnd.databricks.v1+cell": {
     "cellMetadata": {
      "byteLimit": 2048000,
      "rowLimit": 10000
     },
     "inputWidgets": {},
     "nuid": "eaa259cc-8579-4024-81d3-97970fd3c07d",
     "showTitle": false,
     "title": ""
    }
   },
   "outputs": [],
   "source": [
    "# TODO\n",
    "df = spark.readStream.format(\"delta\").option(\"maxFilesPerTrigger\", 1).load(DA.paths.events)\n",
    "\n",
    "df.printSchema()"
   ]
  },
  {
   "cell_type": "markdown",
   "metadata": {
    "application/vnd.databricks.v1+cell": {
     "cellMetadata": {},
     "inputWidgets": {},
     "nuid": "2dc52194-4323-4f8e-95a3-8894c3ea019d",
     "showTitle": false,
     "title": "--i18n-09723417-e88c-4952-acb0-a50b4b2aaa1b"
    }
   },
   "source": [
    "\n",
    "**1.1: CHECK YOUR WORK**"
   ]
  },
  {
   "cell_type": "code",
   "execution_count": 0,
   "metadata": {
    "application/vnd.databricks.v1+cell": {
     "cellMetadata": {
      "byteLimit": 2048000,
      "rowLimit": 10000
     },
     "inputWidgets": {},
     "nuid": "dbaa4c66-3110-446b-a5ee-32054f4cc5ee",
     "showTitle": false,
     "title": ""
    }
   },
   "outputs": [],
   "source": [
    "DA.validate_1_1(df)"
   ]
  },
  {
   "cell_type": "markdown",
   "metadata": {
    "application/vnd.databricks.v1+cell": {
     "cellMetadata": {},
     "inputWidgets": {},
     "nuid": "351dcf33-183f-4643-a4b8-dd0a68377f9b",
     "showTitle": false,
     "title": "--i18n-b2d1b7a7-5bdd-4775-8ac2-0a45910b4e45"
    }
   },
   "source": [
    "### 2. Get active users by traffic source\n",
    "- Set default shuffle partitions to number of cores on your cluster (not required, but runs faster)\n",
    "- Group by **`traffic_source`**\n",
    "  - Aggregate the approximate count of distinct users and alias with \"active_users\"\n",
    "- Sort by **`traffic_source`**"
   ]
  },
  {
   "cell_type": "code",
   "execution_count": 0,
   "metadata": {
    "application/vnd.databricks.v1+cell": {
     "cellMetadata": {
      "byteLimit": 2048000,
      "rowLimit": 10000
     },
     "inputWidgets": {},
     "nuid": "e474e35a-e8a5-4487-82fa-5b2b95114b58",
     "showTitle": false,
     "title": ""
    }
   },
   "outputs": [],
   "source": [
    "import pyspark.sql.functions as F\n",
    "spark.conf.set(\"spark.sql.shuffle.partitions\", \"4\")\n",
    "\n",
    "traffic_df = (\n",
    "    df\n",
    "        .groupBy(\"traffic_source\")\n",
    "        .agg(F.approx_count_distinct(\"user_id\").alias(\"active_users\"))\n",
    "        .sort(\"traffic_source\")\n",
    ")"
   ]
  },
  {
   "cell_type": "markdown",
   "metadata": {
    "application/vnd.databricks.v1+cell": {
     "cellMetadata": {},
     "inputWidgets": {},
     "nuid": "10db6f97-01dc-4747-b87d-e715af63a97b",
     "showTitle": false,
     "title": "--i18n-6ff40a67-649e-457a-bcb0-39ea8f28ca5c"
    }
   },
   "source": [
    "\n",
    "**2.1: CHECK YOUR WORK**"
   ]
  },
  {
   "cell_type": "code",
   "execution_count": 0,
   "metadata": {
    "application/vnd.databricks.v1+cell": {
     "cellMetadata": {
      "byteLimit": 2048000,
      "rowLimit": 10000
     },
     "inputWidgets": {},
     "nuid": "a99ab095-74c3-4885-a9c7-b9cd2ab8461a",
     "showTitle": false,
     "title": ""
    }
   },
   "outputs": [],
   "source": [
    "DA.validate_2_1(traffic_df.schema)"
   ]
  },
  {
   "cell_type": "markdown",
   "metadata": {
    "application/vnd.databricks.v1+cell": {
     "cellMetadata": {},
     "inputWidgets": {},
     "nuid": "efac040e-6609-4929-bfb3-be1b8be84f99",
     "showTitle": false,
     "title": "--i18n-cf8d69ae-1d80-4b00-a92f-e47a79b40cee"
    }
   },
   "source": [
    "\n",
    "### 3. Execute query with display() and plot results\n",
    "- Execute results for **`traffic_df`** using display()\n",
    "- Plot the streaming query results as a bar graph"
   ]
  },
  {
   "cell_type": "code",
   "execution_count": 0,
   "metadata": {
    "application/vnd.databricks.v1+cell": {
     "cellMetadata": {
      "byteLimit": 2048000,
      "rowLimit": 10000
     },
     "inputWidgets": {},
     "nuid": "26661d68-699b-451a-960c-9a5cf9886e19",
     "showTitle": false,
     "title": ""
    }
   },
   "outputs": [
    {
     "output_type": "display_data",
     "data": {
      "text/plain": [
       "Databricks visualization. Run in Databricks to view."
      ]
     },
     "metadata": {
      "application/vnd.databricks.v1.subcommand+json": {
       "baseErrorDetails": null,
       "bindings": {},
       "collapsed": false,
       "command": "# Databricks no-op command",
       "commandTitle": "Visualization 1",
       "commandType": "auto",
       "commandVersion": 0,
       "commentThread": [],
       "commentsVisible": false,
       "contentSha256Hex": null,
       "customPlotOptions": {
        "redashChart": [
         {
          "key": "type",
          "value": "CHART"
         },
         {
          "key": "options",
          "value": {
           "alignYAxesAtZero": true,
           "coefficient": 1,
           "columnConfigurationMap": {
            "x": {
             "column": "traffic_source",
             "id": "column_465a19667"
            },
            "y": [
             {
              "column": "active_users",
              "id": "column_465a19668",
              "transform": "SUM"
             }
            ]
           },
           "dateTimeFormat": "DD/MM/YYYY HH:mm",
           "direction": {
            "type": "counterclockwise"
           },
           "error_y": {
            "type": "data",
            "visible": true
           },
           "globalSeriesType": "column",
           "isAggregationOn": true,
           "legend": {
            "traceorder": "normal"
           },
           "missingValuesAsZero": true,
           "numberFormat": "0,0.[00000]",
           "percentFormat": "0[.]00%",
           "series": {
            "error_y": {
             "type": "data",
             "visible": true
            },
            "stacking": null
           },
           "seriesOptions": {
            "column_465a19668": {
             "name": "active_users",
             "type": "column",
             "yAxis": 0
            }
           },
           "showDataLabels": false,
           "sizemode": "diameter",
           "sortX": true,
           "sortY": true,
           "swappedAxes": false,
           "textFormat": "",
           "useAggregationsUi": true,
           "valuesOptions": {},
           "version": 2,
           "xAxis": {
            "labels": {
             "enabled": true
            },
            "type": "-"
           },
           "yAxis": [
            {
             "type": "-"
            },
            {
             "opposite": true,
             "type": "-"
            }
           ]
          }
         }
        ]
       },
       "datasetPreviewNameToCmdIdMap": {},
       "diffDeletes": [],
       "diffInserts": [],
       "displayType": "redashChart",
       "error": null,
       "errorDetails": null,
       "errorSummary": null,
       "errorTraceType": null,
       "finishTime": 0,
       "globalVars": {},
       "guid": "",
       "height": "auto",
       "hideCommandCode": false,
       "hideCommandResult": false,
       "iPythonMetadata": null,
       "inputWidgets": {},
       "isLockedInExamMode": false,
       "latestUser": "a user",
       "latestUserId": null,
       "listResultMetadata": null,
       "metadata": {},
       "nuid": "91be130e-f9cf-4e2f-9271-4532a0f6197a",
       "origId": 0,
       "parentHierarchy": [],
       "pivotAggregation": null,
       "pivotColumns": null,
       "position": 16.0,
       "resultDbfsErrorMessage": null,
       "resultDbfsStatus": "INLINED_IN_TREE",
       "results": null,
       "showCommandTitle": false,
       "startTime": 0,
       "state": "input",
       "streamStates": {},
       "subcommandOptions": {
        "queryPlan": {
         "groups": [
          {
           "column": "traffic_source",
           "type": "column"
          }
         ],
         "selects": [
          {
           "column": "traffic_source",
           "type": "column"
          },
          {
           "alias": "column_465a19668",
           "args": [
            {
             "column": "active_users",
             "type": "column"
            }
           ],
           "function": "SUM",
           "type": "function"
          }
         ]
        }
       },
       "submitTime": 0,
       "subtype": "tableResultSubCmd.visualization",
       "tableResultIndex": 0,
       "useConsistentColors": false,
       "version": "CommandV1",
       "width": "auto",
       "workflows": null,
       "xColumns": null,
       "yColumns": null
      }
     },
     "output_type": "display_data"
    }
   ],
   "source": [
    "display(traffic_df)"
   ]
  },
  {
   "cell_type": "markdown",
   "metadata": {
    "application/vnd.databricks.v1+cell": {
     "cellMetadata": {},
     "inputWidgets": {},
     "nuid": "7c643b3d-f732-4a9c-bfed-4b4c1721f76a",
     "showTitle": false,
     "title": "--i18n-f4b716a0-6f7a-4727-8e13-4a5e56b2bbd0"
    }
   },
   "source": [
    "\n",
    "**3.1: CHECK YOUR WORK**\n",
    "- You bar chart should plot **`traffic_source`** on the x-axis and **`active_users`** on the y-axis\n",
    "- The top three traffic sources in descending order should be **`google`**, **`facebook`**, and **`instagram`**."
   ]
  },
  {
   "cell_type": "markdown",
   "metadata": {
    "application/vnd.databricks.v1+cell": {
     "cellMetadata": {},
     "inputWidgets": {},
     "nuid": "ad475c29-2d97-40d5-b8d5-4c077f1d2969",
     "showTitle": false,
     "title": "--i18n-4fcb6e43-84bf-4e2d-a477-3dba9a647ee7"
    }
   },
   "source": [
    "### 4. Execute the same streaming query with DataStreamWriter\n",
    "- Name the query \"active_users_by_traffic\"\n",
    "- Set to \"memory\" format and \"complete\" output mode\n",
    "- Set a trigger interval of 1 second"
   ]
  },
  {
   "cell_type": "code",
   "execution_count": 0,
   "metadata": {
    "application/vnd.databricks.v1+cell": {
     "cellMetadata": {
      "byteLimit": 2048000,
      "rowLimit": 10000
     },
     "inputWidgets": {},
     "nuid": "42012f81-9f62-4ea0-8126-b6da9eb5a66f",
     "showTitle": false,
     "title": ""
    }
   },
   "outputs": [],
   "source": [
    "# TODO\n",
    "traffic_query = (\n",
    "    traffic_df\n",
    "        .writeStream\n",
    "        .format(\"memory\")\n",
    "        .outputMode(\"complete\")\n",
    "        .queryName(\"active_users_by_traffic\")\n",
    "        .trigger(processingTime=\"1 second\")\n",
    "        .start()\n",
    ")"
   ]
  },
  {
   "cell_type": "markdown",
   "metadata": {
    "application/vnd.databricks.v1+cell": {
     "cellMetadata": {},
     "inputWidgets": {},
     "nuid": "fdacee78-d99a-49cf-8ff2-36b3ecd3729c",
     "showTitle": false,
     "title": "--i18n-d098bb39-ca7d-48b7-853f-ecb5bbca888b"
    }
   },
   "source": [
    "\n",
    "**4.1: CHECK YOUR WORK**"
   ]
  },
  {
   "cell_type": "code",
   "execution_count": 0,
   "metadata": {
    "application/vnd.databricks.v1+cell": {
     "cellMetadata": {
      "byteLimit": 2048000,
      "rowLimit": 10000
     },
     "inputWidgets": {},
     "nuid": "244adee7-5458-43b5-a11e-17918690b282",
     "showTitle": false,
     "title": ""
    }
   },
   "outputs": [],
   "source": [
    "DA.validate_4_1(traffic_query)"
   ]
  },
  {
   "cell_type": "markdown",
   "metadata": {
    "application/vnd.databricks.v1+cell": {
     "cellMetadata": {},
     "inputWidgets": {},
     "nuid": "d857b345-d333-4a64-916b-cc9ec859a427",
     "showTitle": false,
     "title": "--i18n-8ca7e78b-216b-4384-a515-e57f0f0fa3c3"
    }
   },
   "source": [
    "### 5. View results being updated in the query table\n",
    "Run a query in a SQL cell to display the results from the **`active_users_by_traffic`** table"
   ]
  },
  {
   "cell_type": "code",
   "execution_count": 0,
   "metadata": {
    "application/vnd.databricks.v1+cell": {
     "cellMetadata": {
      "byteLimit": 2048000,
      "implicitDf": true,
      "rowLimit": 10000
     },
     "inputWidgets": {},
     "nuid": "04e7a708-238f-4ccf-92bd-d1b6d4de819b",
     "showTitle": false,
     "title": ""
    }
   },
   "outputs": [],
   "source": [
    "%sql\n",
    "SELECT * FROM active_users_by_traffic"
   ]
  },
  {
   "cell_type": "markdown",
   "metadata": {
    "application/vnd.databricks.v1+cell": {
     "cellMetadata": {},
     "inputWidgets": {},
     "nuid": "c81f6c4d-2589-4cf6-a909-780ee1095f96",
     "showTitle": false,
     "title": "--i18n-a03272d0-9ffd-49ff-9754-cee98e22232b"
    }
   },
   "source": [
    "\n",
    "**5.1: CHECK YOUR WORK**\n",
    "Your query should eventually result in the following values.\n",
    "\n",
    "|traffic_source|active_users|\n",
    "|---|---|\n",
    "|direct|438886|\n",
    "|email|281525|\n",
    "|facebook|956769|\n",
    "|google|1781961|\n",
    "|instagram|530050|\n",
    "|youtube|253321|"
   ]
  },
  {
   "cell_type": "markdown",
   "metadata": {
    "application/vnd.databricks.v1+cell": {
     "cellMetadata": {},
     "inputWidgets": {},
     "nuid": "5da5872c-1910-45be-9490-8ef4fcb365f8",
     "showTitle": false,
     "title": "--i18n-7a281d50-782a-4f52-afc9-f6f4b1bd4435"
    }
   },
   "source": [
    "### 6. List and stop all active streams\n",
    "- Use SparkSession to get list of all active streams\n",
    "- Iterate over the list and stop each query"
   ]
  },
  {
   "cell_type": "code",
   "execution_count": 0,
   "metadata": {
    "application/vnd.databricks.v1+cell": {
     "cellMetadata": {
      "byteLimit": 2048000,
      "rowLimit": 10000
     },
     "inputWidgets": {},
     "nuid": "e5dcdf6f-69ce-4bff-9d4f-c65ab654ad43",
     "showTitle": false,
     "title": ""
    }
   },
   "outputs": [],
   "source": [
    "# TODO\n",
    "for query in spark.streams.active:\n",
    "    query.stop()"
   ]
  },
  {
   "cell_type": "markdown",
   "metadata": {
    "application/vnd.databricks.v1+cell": {
     "cellMetadata": {},
     "inputWidgets": {},
     "nuid": "aaec39e6-4cf5-4552-ae7b-1857796c05dc",
     "showTitle": false,
     "title": "--i18n-82d33668-0827-482d-a973-8f5be6156d92"
    }
   },
   "source": [
    "\n",
    "**6.1: CHECK YOUR WORK**"
   ]
  },
  {
   "cell_type": "code",
   "execution_count": 0,
   "metadata": {
    "application/vnd.databricks.v1+cell": {
     "cellMetadata": {
      "byteLimit": 2048000,
      "rowLimit": 10000
     },
     "inputWidgets": {},
     "nuid": "ebad1b12-3433-47dc-80af-a9e1fde547dd",
     "showTitle": false,
     "title": ""
    }
   },
   "outputs": [],
   "source": [
    "DA.validate_6_1(traffic_query)"
   ]
  },
  {
   "cell_type": "markdown",
   "metadata": {
    "application/vnd.databricks.v1+cell": {
     "cellMetadata": {},
     "inputWidgets": {},
     "nuid": "959cf33a-9373-44eb-9772-9c28e373a91e",
     "showTitle": false,
     "title": "--i18n-90682bbd-1b19-4ac9-b115-a287e0337790"
    }
   },
   "source": [
    "\n",
    "### Classroom Cleanup\n",
    "Run the cell below to clean up resources."
   ]
  },
  {
   "cell_type": "code",
   "execution_count": 0,
   "metadata": {
    "application/vnd.databricks.v1+cell": {
     "cellMetadata": {
      "byteLimit": 2048000,
      "rowLimit": 10000
     },
     "inputWidgets": {},
     "nuid": "22147ad1-f817-4130-a52c-79b7b458e98a",
     "showTitle": false,
     "title": ""
    }
   },
   "outputs": [],
   "source": [
    "DA.cleanup()"
   ]
  },
  {
   "cell_type": "markdown",
   "metadata": {
    "application/vnd.databricks.v1+cell": {
     "cellMetadata": {},
     "inputWidgets": {},
     "nuid": "bdae35a6-714e-4e8f-9000-31994a0781d4",
     "showTitle": false,
     "title": ""
    }
   },
   "source": [
    "&copy; 2023 Databricks, Inc. All rights reserved.<br/>\n",
    "Apache, Apache Spark, Spark and the Spark logo are trademarks of the <a href=\"https://www.apache.org/\">Apache Software Foundation</a>.<br/>\n",
    "<br/>\n",
    "<a href=\"https://databricks.com/privacy-policy\">Privacy Policy</a> | <a href=\"https://databricks.com/terms-of-use\">Terms of Use</a> | <a href=\"https://help.databricks.com/\">Support</a>"
   ]
  }
 ],
 "metadata": {
  "application/vnd.databricks.v1+notebook": {
   "dashboards": [],
   "environmentMetadata": null,
   "language": "python",
   "notebookMetadata": {
    "mostRecentlyExecutedCommandWithImplicitDF": {
     "commandId": 1482925712727977,
     "dataframes": [
      "_sqldf"
     ]
    },
    "pythonIndentUnit": 4
   },
   "notebookName": "ADE 1.3L - Stream Aggregations Lab",
   "widgets": {}
  }
 },
 "nbformat": 4,
 "nbformat_minor": 0
}
